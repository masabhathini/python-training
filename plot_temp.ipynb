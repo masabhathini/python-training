{
 "cells": [
  {
   "cell_type": "code",
   "execution_count": 1,
   "id": "f0e093a3-191e-4e5f-b671-3bbab506666b",
   "metadata": {},
   "outputs": [],
   "source": [
    "from netCDF4 import Dataset\n",
    "import matplotlib as mpl\n",
    "import matplotlib.pyplot as plt\n",
    "import cartopy.crs as crs\n",
    "import cartopy.feature as cf\n",
    "import numpy as np\n",
    "import xarray as xr\n",
    "import math\n",
    "import geopandas as gpd\n",
    "from wrf import (to_np, getvar, get_cartopy, cartopy_xlim, cartopy_ylim, latlon_coords, ALL_TIMES)\n"
   ]
  },
  {
   "cell_type": "code",
   "execution_count": 2,
   "id": "c82efd41-4834-4224-8408-b14ca8cd82eb",
   "metadata": {},
   "outputs": [],
   "source": [
    "# Open the NetCDF file\n",
    "ncfile = Dataset(\"../Temp.2023-09-25.nc\")\n",
    "temp = getvar(ncfile, \"T2\", timeidx = ALL_TIMES)\n",
    "\n",
    "# Get the latitude and longitude points\n",
    "lats, lons = latlon_coords(temp)\n",
    "\n",
    "# Get the cartopy mapping object\n",
    "cart_proj = get_cartopy(temp)\n",
    "xlim = cartopy_xlim(temp)\n",
    "ylim = cartopy_ylim(temp)"
   ]
  },
  {
   "cell_type": "code",
   "execution_count": 4,
   "id": "48b48229-1a8a-4b66-bc2b-ad4556b6fae9",
   "metadata": {},
   "outputs": [],
   "source": [
    "#ncfile = Dataset(\"../LANDMASK.nc\")\n",
    "#mask = getvar(ncfile, \"LANDMASK\")\n",
    "dataset = xr.open_dataset(\"../2023-10-05/Temp.2023-10-05.nc\")\n",
    "t = dataset['T2']\n",
    "dataset = xr.open_dataset('masking/mask.nc')\n",
    "mask = dataset['__xarray_dataarray_variable__']\n",
    "m = to_np(mask).astype('float')\n",
    "m[m==0] = np.nan\n",
    "tc = (t-273.15)*m\n"
   ]
  },
  {
   "cell_type": "code",
   "execution_count": 5,
   "id": "9e6bca9c-957a-41ac-9a0f-3424f46d92b2",
   "metadata": {},
   "outputs": [],
   "source": [
    "# Create temp color map\n",
    "nws_precip_colors = [\n",
    "    \"#fdfdfd\",  # 10.00+\n",
    "    \"#04e9e7\",  # 0.01 - 0.10 inches\n",
    "    \"#019ff4\",  # 0.10 - 0.25 inches\n",
    "    \"#0300f4\",  # 0.25 - 0.50 inches\n",
    "    \"#02fd02\",  # 0.50 - 0.75 inches\n",
    "    \"#01c501\",  # 0.75 - 1.00 inches\n",
    "    \"#008e00\",  # 1.00 - 1.50 inches\n",
    "    \"#fdf802\",  # 1.50 - 2.00 inches\n",
    "    \"#e5bc00\",  # 2.00 - 2.50 inches\n",
    "    \"#fd9500\",  # 2.50 - 3.00 inches\n",
    "    \"#fd0000\",  # 3.00 - 4.00 inches\n",
    "    \"#d40000\",  # 4.00 - 5.00 inches\n",
    "    \"#bc0000\",  # 5.00 - 6.00 inches\n",
    "    \"#f800fd\",  # 6.00 - 8.00 inches\n",
    "    \"#9854c6\"   # 8.00 - 10.00 inches\n",
    "]\n",
    "precip_colormap = mpl.colors.ListedColormap(nws_precip_colors) #mpl.colormaps[\"jet\"]"
   ]
  },
  {
   "cell_type": "code",
   "execution_count": 52,
   "id": "c7308b6e-ef22-4a9e-b40b-848e5f8dada5",
   "metadata": {
    "scrolled": true
   },
   "outputs": [],
   "source": [
    "# Create a figure    \n",
    "def plot(t2,r,t):\n",
    "    fig = plt.figure(figsize=(8,6))\n",
    "    # Set the GeoAxes to the projection used by WRF\n",
    "    ax = plt.axes(projection=cart_proj)\n",
    "\n",
    "    levels = [10, 12, 14, 16, 18, 20, 22, 24, 26, 28, 30, 32, 34, 36, 38, 40]\n",
    "    norm = mpl.colors.BoundaryNorm(levels, 15)\n",
    "\n",
    "    # Download and add the states and coastlines\n",
    "    ax.add_feature(cf.BORDERS)\n",
    "    ax.coastlines('50m', linewidth=0.8)\n",
    "\n",
    "#    plt.contourf(to_np(lons), to_np(lats), to_np(t2), levels,\n",
    "    plt.pcolormesh(lons, lats, t2, vmin = 8, vmax = 34,\n",
    "             transform=crs.PlateCarree(),\n",
    "             cmap=mpl.colormaps[\"gist_ncar\"])#, norm=norm)\n",
    "\n",
    "    # Add a color bar\n",
    "    plt.colorbar(ax=ax, shrink=.9, ticks = levels)\n",
    "\n",
    "    # Set the map bounds\n",
    "    ax.set_xlim(xlim)\n",
    "    ax.set_ylim(ylim)\n",
    "\n",
    "    # Add the gridlines\n",
    "    ax.gridlines(color='black', linestyle='dotted')\n",
    "\n",
    "    plt.title('Temperature of ensemble '+str(r)+' at week '+str(t+1)+' (C)')\n",
    "\n",
    "    #plt.show()\n",
    "    plt.savefig('T_t'+str(t+1)+'_e'+str(r)+'.png', dpi=200)\n",
    "    plt.close()\n",
    "\n",
    "def plot_trend(t2,r):\n",
    "    fig = plt.figure(figsize=(8,6))\n",
    "    # Set the GeoAxes to the projection used by WRF\n",
    "    ax = plt.axes(projection=cart_proj)\n",
    "\n",
    "    #levels = [-6.5 -6 -5.5 -5 -4.5 -4 -3.5 -3 -2.5 -2 -1.5 -1, -0.5, 0, 0.5, 1]\n",
    "    levels = np.arange(-14, 15, 1).tolist()\n",
    "    norm = mpl.colors.BoundaryNorm(levels, 28)\n",
    "\n",
    "    # Download and add the states and coastlines\n",
    "    ax.add_feature(cf.BORDERS)\n",
    "    ax.coastlines('50m', linewidth=0.8)\n",
    "\n",
    "#    plt.contourf(to_np(lons), to_np(lats), to_np(t2), levels,\n",
    "#             transform=crs.PlateCarree(),\n",
    "#             cmap=mpl.colormaps[\"coolwarm\"], norm=norm)\n",
    "#    plt.contourf(to_np(lons), to_np(lats), to_np(t2),\n",
    "    plt.pcolormesh(lons, lats, t2,\n",
    "             transform=crs.PlateCarree(),\n",
    "             cmap=mpl.colormaps[\"Spectral_r\"])\n",
    "#             cmap=mpl.colormaps[\"YlGnBu_r\"])\n",
    "\n",
    "    # Add a color bar\n",
    "    plt.colorbar(ax=ax, shrink=.9, ticks = [-2, -1.5, -1, -0.5, 0])\n",
    "\n",
    "    # Set the map bounds\n",
    "    ax.set_xlim(xlim)\n",
    "    ax.set_ylim(ylim)\n",
    "\n",
    "    # Add the gridlines\n",
    "    ax.gridlines(color='black', linestyle='dotted')\n",
    "\n",
    "    plt.title('Temperature trend of ensemble '+str(r)+' (C)')\n",
    "\n",
    "    #plt.show()\n",
    "    plt.savefig('DT_e'+str(r)+'.png', dpi=200)\n",
    "    plt.close()"
   ]
  },
  {
   "cell_type": "code",
   "execution_count": 53,
   "id": "045ff3c9-91e5-457a-9468-097340fb98f9",
   "metadata": {
    "scrolled": true
   },
   "outputs": [
    {
     "name": "stdout",
     "output_type": "stream",
     "text": [
      "0\n",
      "1\n",
      "2\n",
      "3\n",
      "4\n",
      "5\n"
     ]
    },
    {
     "name": "stderr",
     "output_type": "stream",
     "text": [
      "/Users/luongtm/miniforge3/lib/python3.10/site-packages/cartopy/mpl/geoaxes.py:1781: UserWarning: The input coordinates to pcolormesh are interpreted as cell centers, but are not monotonically increasing or decreasing. This may lead to incorrectly calculated cell edges, in which case, please supply explicit cell edges to pcolormesh.\n",
      "  result = super().pcolormesh(*args, **kwargs)\n"
     ]
    }
   ],
   "source": [
    "r = 'median'\n",
    "for t in range(0,6):\n",
    "    print(t)\n",
    "    t2 = tc.isel(Time=t)\n",
    "#    plot(t2.median(dim='record'),r,t)\n",
    "t5 = tc.isel(Time=5)\n",
    "t0 = tc.isel(Time=0)\n",
    "dt = t5.median(dim='record')-t0.median(dim='record')\n",
    "plot_trend(dt/5,r)\n"
   ]
  },
  {
   "cell_type": "code",
   "execution_count": 18,
   "id": "63b2598c-8213-4704-aff7-e93b8b9f5fc5",
   "metadata": {},
   "outputs": [
    {
     "name": "stdout",
     "output_type": "stream",
     "text": [
      "[-1532000.00097559, 1531998.765921907]\n"
     ]
    }
   ],
   "source": [
    "print(xlim)"
   ]
  },
  {
   "cell_type": "code",
   "execution_count": null,
   "id": "ba9ba01e-4e04-4f37-81c7-c1ade93cd73f",
   "metadata": {},
   "outputs": [],
   "source": []
  }
 ],
 "metadata": {
  "kernelspec": {
   "display_name": "Python 3 (ipykernel)",
   "language": "python",
   "name": "python3"
  },
  "language_info": {
   "codemirror_mode": {
    "name": "ipython",
    "version": 3
   },
   "file_extension": ".py",
   "mimetype": "text/x-python",
   "name": "python",
   "nbconvert_exporter": "python",
   "pygments_lexer": "ipython3",
   "version": "3.10.12"
  }
 },
 "nbformat": 4,
 "nbformat_minor": 5
}
