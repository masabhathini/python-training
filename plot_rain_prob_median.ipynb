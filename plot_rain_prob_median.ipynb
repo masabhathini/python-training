{
 "cells": [
  {
   "cell_type": "code",
   "execution_count": 1,
   "id": "1625f467-dfb0-47ce-9ca6-c0f298596275",
   "metadata": {},
   "outputs": [],
   "source": [
    "from netCDF4 import Dataset\n",
    "import matplotlib as mpl\n",
    "import matplotlib.pyplot as plt\n",
    "import cartopy.crs as crs\n",
    "import cartopy.feature as cf\n",
    "import numpy as np\n",
    "import xarray as xr\n",
    "import time\n",
    "from wrf import (to_np, getvar, smooth2d, get_cartopy, cartopy_xlim,\n",
    "                 cartopy_ylim, latlon_coords, ALL_TIMES)"
   ]
  },
  {
   "cell_type": "code",
   "execution_count": 2,
   "id": "c1c2a7de-6448-42f9-b66e-9b4866598db3",
   "metadata": {},
   "outputs": [],
   "source": [
    "# Open the NetCDF file\n",
    "ncfile = Dataset(\"../Rain.2023-09-25.nc\")\n",
    "rain = getvar(ncfile, \"RAINNC\", timeidx=ALL_TIMES)\n",
    "\n",
    "# Get the latitude and longitude points\n",
    "lats, lons = latlon_coords(rain)\n",
    "\n",
    "# Get the cartopy mapping object\n",
    "cart_proj = get_cartopy(rain)\n",
    "xlim = cartopy_xlim(rain)\n",
    "ylim = cartopy_ylim(rain)\n",
    "\n",
    "dataset = xr.open_dataset(\"../NOV02_forecast/data/Rain.2023-11-02.nc\")\n",
    "pr = dataset['RAINNC']\n",
    "\n",
    "dataset = xr.open_dataset('masking/mask.nc')\n",
    "mask = dataset['__xarray_dataarray_variable__']\n",
    "m = to_np(mask).astype('float')\n",
    "m[m==0] = np.nan"
   ]
  },
  {
   "cell_type": "code",
   "execution_count": 3,
   "id": "9e6bca9c-957a-41ac-9a0f-3424f46d92b2",
   "metadata": {},
   "outputs": [],
   "source": [
    "# Create precip color map\n",
    "nws_precip_colors = [\n",
    "    \"#fdfdfd\",  # 10.00+\n",
    "    \"#04e9e7\",  # 0.01 - 0.10 inches\n",
    "    \"#019ff4\",  # 0.10 - 0.25 inches\n",
    "    \"#0300f4\",  # 0.25 - 0.50 inches\n",
    "    \"#02fd02\",  # 0.50 - 0.75 inches\n",
    "    \"#01c501\",  # 0.75 - 1.00 inches\n",
    "    \"#008e00\",  # 1.00 - 1.50 inches\n",
    "    \"#fdf802\",  # 1.50 - 2.00 inches\n",
    "    \"#e5bc00\",  # 2.00 - 2.50 inches\n",
    "    \"#fd9500\",  # 2.50 - 3.00 inches\n",
    "    \"#fd0000\",  # 3.00 - 4.00 inches\n",
    "    \"#d40000\",  # 4.00 - 5.00 inches\n",
    "    \"#bc0000\",  # 5.00 - 6.00 inches\n",
    "    \"#f800fd\",  # 6.00 - 8.00 inches\n",
    "    \"#9854c6\"  # 8.00 - 10.00 inches\n",
    "]\n",
    "precip_colormap = mpl.colors.ListedColormap(nws_precip_colors)\n",
    "#YlGnBu = [\"#fdfdfd\",\"#ffffd9\",\"#edf8b1\",\"#c7e9b4\",\"#7fcdbb\",\"#41b6c4\",\"#1d91c0\",\"#225ea8\",\"#253494\",\"#081d58\"]\n",
    "#prob_colors = [\"#fdfdfd\",\"#ffffd9\",\"#7fcdbb\",\"#225ea8\",\"#f7fcb9\",\"#addd8e\",\"#31a354\",\"#ffffb2\",\"#fecc5c\",\"#fd8d3c\",\"#f03b20\",\"#bd0026\",\"#fa9fb5\",\"#c51b8a\"]\n",
    "#precip_colormap = mpl.colormaps[\"tab20c\"]\n",
    "#precip_colormap = mpl.colors.ListedColormap(prob_colors)\n",
    "#jet = mpl.colormaps.get_cmap('jet')\n",
    "#jet_colors = jet(np.linspace(0, 1, 14))\n",
    "#print('jet.colors', jet_colors)\n",
    "#white = [1.,1.,1.,1.]\n",
    "#precip_colormap = tuple(np.vstack([white,jet_colors]))\n",
    "#print(precip_colormap)"
   ]
  },
  {
   "cell_type": "code",
   "execution_count": 5,
   "id": "c7308b6e-ef22-4a9e-b40b-848e5f8dada5",
   "metadata": {
    "scrolled": true
   },
   "outputs": [],
   "source": [
    "# Create a figure    \n",
    "def plot(prec,r,thres,t,unit,levels):\n",
    "    fig = plt.figure(figsize=(8,6))\n",
    "    # Set the GeoAxes to the projection used by WRF\n",
    "    ax = plt.axes(projection=cart_proj)\n",
    "\n",
    "    norm = mpl.colors.BoundaryNorm(levels, 15)\n",
    "\n",
    "    # Download and add the states and coastlines\n",
    "    ax.add_feature(cf.BORDERS)\n",
    "    ax.add_feature(cf.STATES)\n",
    "    ax.coastlines('10m', linewidth=0.8)\n",
    "\n",
    "#    plt.contourf(to_np(lons), to_np(lats), to_np(prec), levels,\n",
    "    plt.pcolormesh(lons, lats, prec,\n",
    "             transform=crs.PlateCarree(),\n",
    "             cmap=precip_colormap, norm=norm)\n",
    "    # Add a color bar\n",
    "    plt.colorbar(ax=ax, shrink=.9, ticks = levels)\n",
    "\n",
    "    # Set the map bounds\n",
    "    ax.set_xlim(xlim)\n",
    "    ax.set_ylim(ylim)\n",
    "\n",
    "    # Add the gridlines\n",
    "    ax.gridlines(color='black', linestyle='dotted')\n",
    "\n",
    "    plt.title(str(r)+' of rainfall > '+str(thres)+' mm/week at week '+str(t+1)+unit)\n",
    "\n",
    "    #plt.show()\n",
    "    plt.savefig('1102/P_t'+str(t+1)+'_e'+str(r)+'_'+str(thres)+'mm.png', dpi=200)\n",
    "    plt.close()"
   ]
  },
  {
   "cell_type": "code",
   "execution_count": 10,
   "id": "6c4b0145-92b9-4a53-942f-1b425d31b279",
   "metadata": {
    "scrolled": true
   },
   "outputs": [
    {
     "name": "stdout",
     "output_type": "stream",
     "text": [
      "1001\n",
      "plot pcolormesh\n"
     ]
    },
    {
     "name": "stderr",
     "output_type": "stream",
     "text": [
      "/Users/luongtm/miniforge3/lib/python3.10/site-packages/cartopy/mpl/geoaxes.py:1781: UserWarning: The input coordinates to pcolormesh are interpreted as cell centers, but are not monotonically increasing or decreasing. This may lead to incorrectly calculated cell edges, in which case, please supply explicit cell edges to pcolormesh.\n",
      "  result = super().pcolormesh(*args, **kwargs)\n"
     ]
    },
    {
     "name": "stdout",
     "output_type": "stream",
     "text": [
      "--- 1.68 seconds ---\n",
      "done\n",
      "2001\n",
      "plot pcolormesh\n"
     ]
    },
    {
     "name": "stderr",
     "output_type": "stream",
     "text": [
      "/Users/luongtm/miniforge3/lib/python3.10/site-packages/cartopy/mpl/geoaxes.py:1781: UserWarning: The input coordinates to pcolormesh are interpreted as cell centers, but are not monotonically increasing or decreasing. This may lead to incorrectly calculated cell edges, in which case, please supply explicit cell edges to pcolormesh.\n",
      "  result = super().pcolormesh(*args, **kwargs)\n"
     ]
    },
    {
     "name": "stdout",
     "output_type": "stream",
     "text": [
      "--- 1.60 seconds ---\n",
      "done\n",
      "3001\n",
      "plot pcolormesh\n"
     ]
    },
    {
     "name": "stderr",
     "output_type": "stream",
     "text": [
      "/Users/luongtm/miniforge3/lib/python3.10/site-packages/cartopy/mpl/geoaxes.py:1781: UserWarning: The input coordinates to pcolormesh are interpreted as cell centers, but are not monotonically increasing or decreasing. This may lead to incorrectly calculated cell edges, in which case, please supply explicit cell edges to pcolormesh.\n",
      "  result = super().pcolormesh(*args, **kwargs)\n"
     ]
    },
    {
     "name": "stdout",
     "output_type": "stream",
     "text": [
      "--- 1.62 seconds ---\n",
      "done\n",
      "4001\n",
      "plot pcolormesh\n"
     ]
    },
    {
     "name": "stderr",
     "output_type": "stream",
     "text": [
      "/Users/luongtm/miniforge3/lib/python3.10/site-packages/cartopy/mpl/geoaxes.py:1781: UserWarning: The input coordinates to pcolormesh are interpreted as cell centers, but are not monotonically increasing or decreasing. This may lead to incorrectly calculated cell edges, in which case, please supply explicit cell edges to pcolormesh.\n",
      "  result = super().pcolormesh(*args, **kwargs)\n"
     ]
    },
    {
     "name": "stdout",
     "output_type": "stream",
     "text": [
      "--- 1.59 seconds ---\n",
      "done\n",
      "5001\n",
      "plot pcolormesh\n"
     ]
    },
    {
     "name": "stderr",
     "output_type": "stream",
     "text": [
      "/Users/luongtm/miniforge3/lib/python3.10/site-packages/cartopy/mpl/geoaxes.py:1781: UserWarning: The input coordinates to pcolormesh are interpreted as cell centers, but are not monotonically increasing or decreasing. This may lead to incorrectly calculated cell edges, in which case, please supply explicit cell edges to pcolormesh.\n",
      "  result = super().pcolormesh(*args, **kwargs)\n"
     ]
    },
    {
     "name": "stdout",
     "output_type": "stream",
     "text": [
      "--- 1.62 seconds ---\n",
      "done\n",
      "6001\n",
      "plot pcolormesh\n"
     ]
    },
    {
     "name": "stderr",
     "output_type": "stream",
     "text": [
      "/Users/luongtm/miniforge3/lib/python3.10/site-packages/cartopy/mpl/geoaxes.py:1781: UserWarning: The input coordinates to pcolormesh are interpreted as cell centers, but are not monotonically increasing or decreasing. This may lead to incorrectly calculated cell edges, in which case, please supply explicit cell edges to pcolormesh.\n",
      "  result = super().pcolormesh(*args, **kwargs)\n"
     ]
    },
    {
     "name": "stdout",
     "output_type": "stream",
     "text": [
      "--- 2.14 seconds ---\n",
      "done\n"
     ]
    }
   ],
   "source": [
    "for t in range(0,6):\n",
    "#    for thres in [1, 5, 10, 25, 50]:\n",
    "        thres = 1\n",
    "        print((t+1)*1000+thres)\n",
    "        prec = pr.isel(Time=t)*m\n",
    "        prob = xr.where(prec>thres,100,0)\n",
    "        print('plot pcolormesh')\n",
    "        levels = [0, 1, 2, 4, 6, 10, 15, 20, 30, 40, 50, 60, 70, 80, 90, 100]\n",
    "        start_time = time.time()\n",
    "        #plot(prob.mean(dim='record',skipna=True),'Probability',thres,t,' (%)',levels)\n",
    "        emean = xr.where(prec>thres,prec,np.nan)\n",
    "        levels = [0, 1, 2, 5, 10, 15, 20, 25, 30, 40, 50, 60, 80, 100, 150, 200]\n",
    "        #plot(emean.median(dim='record', skipna=True),'Median',thres,t,' (mm/week)',levels)\n",
    "        #plot(emean.max(dim='record', skipna=True),'Max',thres,t,' (mm/week)',levels)\n",
    "        plot(emean.mean(dim='record', skipna=True),'Mean',thres,t,' (mm/week)',levels)\n",
    "        print(\"--- %.2f seconds ---\" % (time.time() - start_time))\n",
    "        print('done')"
   ]
  },
  {
   "cell_type": "code",
   "execution_count": 9,
   "id": "de6e96f1-100e-4d05-ab51-53743e2e2623",
   "metadata": {
    "scrolled": true
   },
   "outputs": [
    {
     "name": "stdout",
     "output_type": "stream",
     "text": [
      "50\n"
     ]
    },
    {
     "name": "stderr",
     "output_type": "stream",
     "text": [
      "/Users/luongtm/miniforge3/lib/python3.10/site-packages/cartopy/mpl/geoaxes.py:1781: UserWarning: The input coordinates to pcolormesh are interpreted as cell centers, but are not monotonically increasing or decreasing. This may lead to incorrectly calculated cell edges, in which case, please supply explicit cell edges to pcolormesh.\n",
      "  result = super().pcolormesh(*args, **kwargs)\n"
     ]
    }
   ],
   "source": [
    "levels = [0, 1, 2, 5, 10, 15, 20, 25, 30, 40, 50, 60, 80, 100, 150, 200]\n",
    "for r in range(0,51):\n",
    "    for t in range(0,1):\n",
    "        print(t*1000+r)\n",
    "        prec = pr.isel(record=r,Time=t)\n",
    "        plot(prec,r,0,t,' (mm/week)',levels)"
   ]
  },
  {
   "cell_type": "code",
   "execution_count": null,
   "id": "96163321-090c-49f1-b4de-7709cff5bfa8",
   "metadata": {},
   "outputs": [],
   "source": []
  }
 ],
 "metadata": {
  "kernelspec": {
   "display_name": "Python 3 (ipykernel)",
   "language": "python",
   "name": "python3"
  },
  "language_info": {
   "codemirror_mode": {
    "name": "ipython",
    "version": 3
   },
   "file_extension": ".py",
   "mimetype": "text/x-python",
   "name": "python",
   "nbconvert_exporter": "python",
   "pygments_lexer": "ipython3",
   "version": "3.10.12"
  }
 },
 "nbformat": 4,
 "nbformat_minor": 5
}
